{
  "cells": [
    {
      "cell_type": "markdown",
      "metadata": {
        "id": "view-in-github",
        "colab_type": "text"
      },
      "source": [
        "<a href=\"https://colab.research.google.com/github/dmortalla/zero-to-mastery-ml/blob/master/intro_to_numpy.ipynb\" target=\"_parent\"><img src=\"https://colab.research.google.com/assets/colab-badge.svg\" alt=\"Open In Colab\"/></a>"
      ]
    },
    {
      "cell_type": "code",
      "execution_count": null,
      "id": "f30ea6ff-2c53-4851-94f7-2514f793634b",
      "metadata": {
        "id": "f30ea6ff-2c53-4851-94f7-2514f793634b"
      },
      "outputs": [],
      "source": [
        "import numpy as np"
      ]
    },
    {
      "cell_type": "markdown",
      "id": "bfdc70e0-b8bb-438a-8bf1-345ba0ac410d",
      "metadata": {
        "id": "bfdc70e0-b8bb-438a-8bf1-345ba0ac410d"
      },
      "source": [
        "## Data Types and Attributes"
      ]
    },
    {
      "cell_type": "code",
      "execution_count": null,
      "id": "2a22ea9a-d263-4745-8a1d-05b65d9e0e11",
      "metadata": {
        "id": "2a22ea9a-d263-4745-8a1d-05b65d9e0e11",
        "outputId": "75fb3f86-1dd1-4140-f579-196743749e4e"
      },
      "outputs": [
        {
          "data": {
            "text/plain": [
              "array([1, 2, 3])"
            ]
          },
          "execution_count": 3,
          "metadata": {},
          "output_type": "execute_result"
        }
      ],
      "source": [
        "# Numpy's main datatype is ndarray, a list of numbers\n",
        "a1 = np.array([1, 2, 3])\n",
        "a1"
      ]
    },
    {
      "cell_type": "code",
      "execution_count": null,
      "id": "53357f04-93da-47b0-9876-4b38edabebcd",
      "metadata": {
        "id": "53357f04-93da-47b0-9876-4b38edabebcd",
        "outputId": "10e2ce06-0aa9-450d-d6b8-8c5fe46e568a"
      },
      "outputs": [
        {
          "data": {
            "text/plain": [
              "numpy.ndarray"
            ]
          },
          "execution_count": 4,
          "metadata": {},
          "output_type": "execute_result"
        }
      ],
      "source": [
        "# Check the datatype\n",
        "type(a1)"
      ]
    },
    {
      "cell_type": "code",
      "execution_count": null,
      "id": "0d4ea5c1-32c0-4afb-8fde-d5f0a8f1604a",
      "metadata": {
        "id": "0d4ea5c1-32c0-4afb-8fde-d5f0a8f1604a",
        "outputId": "5039b09e-81db-4a0d-916c-c021f66f1327"
      },
      "outputs": [
        {
          "name": "stdout",
          "output_type": "stream",
          "text": [
            "The array is: [[1.  2.  3.3]\n",
            " [4.  5.  6.5]]\n",
            "Its dimension is 2, its shape is (2, 3), and its size is 6.\n",
            "The datatype is float64 while the array is of type <class 'numpy.ndarray'>.\n"
          ]
        }
      ],
      "source": [
        "# Create the array\n",
        "a2 = np.array([[1, 2.0, 3.3],\n",
        "              [4, 5, 6.5]])\n",
        "\n",
        "# Display the array with its dimnesion, shape, amd size\n",
        "print(f\"The array is: {a2}\")\n",
        "print(f\"Its dimension is {a2.ndim}, its shape is {a2.shape}, and its size is {a2.size}.\")\n",
        "print(f\"The datatype is {a2.dtype} while the array is of type {type(a2)}.\")\n"
      ]
    },
    {
      "cell_type": "code",
      "execution_count": null,
      "id": "a2970a18-9a97-4a65-b75a-09e33b587b16",
      "metadata": {
        "id": "a2970a18-9a97-4a65-b75a-09e33b587b16",
        "outputId": "b47255b6-438d-46bb-c15c-9def115595cf"
      },
      "outputs": [
        {
          "name": "stdout",
          "output_type": "stream",
          "text": [
            "The array is: [[[ 1  2  3]\n",
            "  [ 4  5  6]\n",
            "  [ 7  8  9]]\n",
            "\n",
            " [[10 11 12]\n",
            "  [13 14 15]\n",
            "  [16 17 18]]]\n",
            "Its dimension is 3, its shape is (2, 3, 3), and its size is 18.\n",
            "The datatype is int32 while the array is of type <class 'numpy.ndarray'>.\n"
          ]
        }
      ],
      "source": [
        "# Create the array\n",
        "a3 = np.array([[[1, 2, 3],\n",
        "                [4, 5, 6],\n",
        "                [7, 8, 9]],\n",
        "               [[10, 11, 12],\n",
        "                [13, 14, 15],\n",
        "                [16, 17, 18]]\n",
        "              ])\n",
        "# Display the array with its dimnesion, shape, amd size\n",
        "print(f\"The array is: {a3}\")\n",
        "print(f\"Its dimension is {a3.ndim}, its shape is {a3.shape}, and its size is {a3.size}.\")\n",
        "print(f\"The datatype is {a3.dtype} while the array is of type {type(a3)}.\")\n"
      ]
    },
    {
      "cell_type": "code",
      "execution_count": null,
      "id": "e0521582-0a09-43a6-83c8-195669031928",
      "metadata": {
        "id": "e0521582-0a09-43a6-83c8-195669031928",
        "outputId": "bb66ad95-fd78-4a55-9b98-99b47b973e28"
      },
      "outputs": [
        {
          "name": "stdout",
          "output_type": "stream",
          "text": [
            "The array is: [[[ 1  2  3]\n",
            "  [ 4  5  6]]\n",
            "\n",
            " [[ 7  8  9]\n",
            "  [10 11 12]]\n",
            "\n",
            " [[13 14 15]\n",
            "  [16 17 18]]]\n",
            "Its dimension is 3, its shape is (3, 2, 3), and its size is 18.\n",
            "The datatype is int32 while the array is of type <class 'numpy.ndarray'>.\n"
          ]
        }
      ],
      "source": [
        "# Create the array\n",
        "a4 = np.array([[[1, 2, 3],\n",
        "                [4, 5, 6]],\n",
        "               [[7, 8, 9],\n",
        "                [10, 11, 12]],\n",
        "               [[13, 14, 15],\n",
        "                [16, 17, 18]]\n",
        "               ])\n",
        "# Display the array with its dimnesion, shape, amd size\n",
        "print(f\"The array is: {a4}\")\n",
        "print(f\"Its dimension is {a4.ndim}, its shape is {a4.shape}, and its size is {a4.size}.\")\n",
        "print(f\"The datatype is {a4.dtype} while the array is of type {type(a4)}.\")\n"
      ]
    },
    {
      "cell_type": "code",
      "execution_count": null,
      "id": "a2c08780-5020-41d3-967f-ea6c67f9c50b",
      "metadata": {
        "id": "a2c08780-5020-41d3-967f-ea6c67f9c50b",
        "outputId": "6bc4fc6a-5f99-4179-ed6c-993051ec077c"
      },
      "outputs": [
        {
          "data": {
            "text/html": [
              "<div>\n",
              "<style scoped>\n",
              "    .dataframe tbody tr th:only-of-type {\n",
              "        vertical-align: middle;\n",
              "    }\n",
              "\n",
              "    .dataframe tbody tr th {\n",
              "        vertical-align: top;\n",
              "    }\n",
              "\n",
              "    .dataframe thead th {\n",
              "        text-align: right;\n",
              "    }\n",
              "</style>\n",
              "<table border=\"1\" class=\"dataframe\">\n",
              "  <thead>\n",
              "    <tr style=\"text-align: right;\">\n",
              "      <th></th>\n",
              "      <th>0</th>\n",
              "      <th>1</th>\n",
              "      <th>2</th>\n",
              "    </tr>\n",
              "  </thead>\n",
              "  <tbody>\n",
              "    <tr>\n",
              "      <th>0</th>\n",
              "      <td>1.0</td>\n",
              "      <td>2.0</td>\n",
              "      <td>3.3</td>\n",
              "    </tr>\n",
              "    <tr>\n",
              "      <th>1</th>\n",
              "      <td>4.0</td>\n",
              "      <td>5.0</td>\n",
              "      <td>6.5</td>\n",
              "    </tr>\n",
              "  </tbody>\n",
              "</table>\n",
              "</div>"
            ],
            "text/plain": [
              "     0    1    2\n",
              "0  1.0  2.0  3.3\n",
              "1  4.0  5.0  6.5"
            ]
          },
          "execution_count": 8,
          "metadata": {},
          "output_type": "execute_result"
        }
      ],
      "source": [
        "# Create a 2-dim dataframe from a 2-dim Numpy array\n",
        "import pandas as pd\n",
        "\n",
        "df2 = pd.DataFrame(a2)\n",
        "df2"
      ]
    },
    {
      "cell_type": "code",
      "execution_count": null,
      "id": "7132945b-cbfc-4258-b4ad-99ea9ec897a8",
      "metadata": {
        "id": "7132945b-cbfc-4258-b4ad-99ea9ec897a8",
        "outputId": "9b3faa78-1220-4c13-86db-632c92259e37"
      },
      "outputs": [
        {
          "name": "stdout",
          "output_type": "stream",
          "text": [
            "           Feature_0  Feature_1  Feature_2\n",
            "Dim1 Dim2                                 \n",
            "0    0             1          2          3\n",
            "     1             4          5          6\n",
            "     2             7          8          9\n",
            "1    0            10         11         12\n",
            "     1            13         14         15\n",
            "     2            16         17         18\n"
          ]
        }
      ],
      "source": [
        "# Create a 3-dim dataframe from a 3-dim Numpy array\n",
        "# Step 1: Reshape the 3D array to 2D by flattening the last dim\n",
        "a3_2d = a3.reshape(-1, a3.shape[-1])\n",
        "\n",
        "# Step 1: Create the DataFrame using multi-inde to retain original 3D structure\n",
        "index = pd.MultiIndex.from_product([range(s) for s in a3.shape[:-1]], names=['Dim1', 'Dim2'])\n",
        "df_a3 = pd.DataFrame(a3_2d, index=index, columns=[f'Feature_{i}' for i in range(a3.shape[-1])])\n",
        "\n",
        "print(df_a3)"
      ]
    },
    {
      "cell_type": "code",
      "execution_count": null,
      "id": "f31f92c9-dfb6-4f68-9413-1d6b4520ea94",
      "metadata": {
        "id": "f31f92c9-dfb6-4f68-9413-1d6b4520ea94",
        "outputId": "24fc0fef-1727-4c15-d5b8-9350d128e0bb"
      },
      "outputs": [
        {
          "name": "stdout",
          "output_type": "stream",
          "text": [
            "           Feature_0  Feature_1  Feature_2\n",
            "Dim1 Dim2                                 \n",
            "0    0             1          2          3\n",
            "     1             4          5          6\n",
            "1    0             7          8          9\n",
            "     1            10         11         12\n",
            "2    0            13         14         15\n",
            "     1            16         17         18\n"
          ]
        }
      ],
      "source": [
        "# Create a 3-dim dataframe from a 3-dim Numpy array\n",
        "# Step 1: Reshape the 3D array to 2D by flattening the last dim\n",
        "a4_2d = a4.reshape(-1, a4.shape[-1])\n",
        "\n",
        "# Step 1: Create the DataFrame using multi-inde to retain original 3D structure\n",
        "index = pd.MultiIndex.from_product([range(s) for s in a4.shape[:-1]], names=['Dim1', 'Dim2'])\n",
        "df_a4 = pd.DataFrame(a4_2d, index=index, columns=[f'Feature_{i}' for i in range(a4.shape[-1])])\n",
        "\n",
        "print(df_a4)"
      ]
    },
    {
      "cell_type": "code",
      "execution_count": null,
      "id": "589c9e1e-3a84-444d-adfb-06fca073029c",
      "metadata": {
        "id": "589c9e1e-3a84-444d-adfb-06fca073029c"
      },
      "outputs": [],
      "source": []
    }
  ],
  "metadata": {
    "kernelspec": {
      "display_name": "Python 3 (ipykernel)",
      "language": "python",
      "name": "python3"
    },
    "language_info": {
      "codemirror_mode": {
        "name": "ipython",
        "version": 3
      },
      "file_extension": ".py",
      "mimetype": "text/x-python",
      "name": "python",
      "nbconvert_exporter": "python",
      "pygments_lexer": "ipython3",
      "version": "3.12.4"
    },
    "colab": {
      "provenance": [],
      "include_colab_link": true
    }
  },
  "nbformat": 4,
  "nbformat_minor": 5
}